{
 "cells": [
  {
   "cell_type": "code",
   "execution_count": 1,
   "metadata": {},
   "outputs": [
    {
     "name": "stdout",
     "output_type": "stream",
     "text": [
      "{'first name': 'Amaan', 'last name': 'Nadeem', 'age': '19', 'city': 'Karachi'}\n"
     ]
    }
   ],
   "source": [
    "dic={\n",
    "    \"first name\":\"Amaan\",\n",
    "    \"last name\": \"Nadeem\",\n",
    "    \"age\": \"19\",\n",
    "    \"city\": \"Karachi\"\n",
    "}\n",
    "print(dic)"
   ]
  },
  {
   "cell_type": "code",
   "execution_count": 4,
   "metadata": {},
   "outputs": [
    {
     "name": "stdout",
     "output_type": "stream",
     "text": [
      "{'first name': 'Amaan', 'last name': 'Nadeem', 'age': '19', 'city': 'Karachi', 'qualifications': 'inter'}\n"
     ]
    }
   ],
   "source": [
    "dic[\"qualifications\"]= \"inter\"\n",
    "print(dic)"
   ]
  },
  {
   "cell_type": "code",
   "execution_count": 14,
   "metadata": {},
   "outputs": [
    {
     "name": "stdout",
     "output_type": "stream",
     "text": [
      "{'first name': 'Amaan', 'last name': 'Nadeem', 'age': '19', 'city': 'Karachi', 'qualifications': 'high academic level'}\n"
     ]
    }
   ],
   "source": [
    "dic[\"qualifications\"] = \"high academic level\"\n",
    "print(dic)"
   ]
  },
  {
   "cell_type": "code",
   "execution_count": 15,
   "metadata": {},
   "outputs": [
    {
     "name": "stdout",
     "output_type": "stream",
     "text": [
      "{'first name': 'Amaan', 'last name': 'Nadeem', 'age': '19', 'city': 'Karachi'}\n"
     ]
    }
   ],
   "source": [
    "del dic[\"qualifications\"]\n",
    "print(dic)"
   ]
  },
  {
   "cell_type": "code",
   "execution_count": 22,
   "metadata": {},
   "outputs": [
    {
     "name": "stdout",
     "output_type": "stream",
     "text": [
      "dict_keys(['Karachi', 'Paris', 'Dehli'])\n",
      "dict_values(['Pakistan', '200 mil', '8th biggest city in the world'])\n",
      "dict_values(['France', '20 mil', 'Have the most greenary'])\n",
      "dict_values(['India', '300 mil', 'one of the biggest capitals'])\n"
     ]
    }
   ],
   "source": [
    "cities={\n",
    "    \"Karachi\":1,\n",
    "    \"Paris\":2,\n",
    "    \"Dehli\":3\n",
    "}\n",
    "information_Karachi={\n",
    "    \"country\":\"Pakistan\",\n",
    "    \"population\": \"200 mil\",\n",
    "    \"fact\" : \"8th biggest city in the world\"\n",
    "}\n",
    "\n",
    "information_Paris={\n",
    "    \"country\":\"France\",\n",
    "    \"population\": \"20 mil\",\n",
    "    \"fact\" : \"Have the most greenary\"\n",
    "}\n",
    "\n",
    "information_Dehli={\n",
    "    \"country\":\"India\",\n",
    "    \"population\" : \"300 mil\",\n",
    "    \"fact\" : \"one of the biggest capitals\"\n",
    "}\n",
    "\n",
    "print(cities.keys())\n",
    "print(information_Karachi.values())\n",
    "print(information_Paris.values())\n",
    "print(information_Dehli.values())"
   ]
  },
  {
   "cell_type": "code",
   "execution_count": null,
   "metadata": {},
   "outputs": [],
   "source": [
    "age= int(input(\"Enter age:\"))\n",
    "if age<=3:\n",
    "    print(\"ticket is free\")\n",
    "elif 3<age<=12:\n",
    "    print(\"The ticket is 10$\")\n",
    "else:\n",
    "    print(\"The ticker is 15$\")"
   ]
  },
  {
   "cell_type": "code",
   "execution_count": 31,
   "metadata": {},
   "outputs": [
    {
     "name": "stdout",
     "output_type": "stream",
     "text": [
      "One of my favorite books is Kuliyat e Iqbal\n"
     ]
    }
   ],
   "source": [
    "def favorite_book(title):\n",
    "    print(\"One of my favorite books is\",title)\n",
    "    \n",
    "favorite_book(\"Kuliyat e Iqbal\")\n"
   ]
  },
  {
   "cell_type": "code",
   "execution_count": null,
   "metadata": {},
   "outputs": [],
   "source": []
  },
  {
   "cell_type": "code",
   "execution_count": null,
   "metadata": {},
   "outputs": [],
   "source": [
    "import random\n",
    "\n",
    "guess=int(input(\"Guess the no:\"))\n",
    "num= random.randrange(1,30)\n",
    "print(num)\n",
    "if num==guess:\n",
    "    print(\"you won\")\n",
    "elif guess!=num:\n",
    "    for i in range(2):\n",
    "        again=int(input(\"Try again:\"))\n",
    "        if again==num:\n",
    "            print(\"you win\")\n",
    "            break\n",
    "        else:\n",
    "            print(\"You lose\")\n"
   ]
  },
  {
   "cell_type": "code",
   "execution_count": null,
   "metadata": {},
   "outputs": [],
   "source": [
    "\n"
   ]
  },
  {
   "cell_type": "code",
   "execution_count": null,
   "metadata": {},
   "outputs": [],
   "source": []
  },
  {
   "cell_type": "code",
   "execution_count": null,
   "metadata": {},
   "outputs": [],
   "source": []
  }
 ],
 "metadata": {
  "kernelspec": {
   "display_name": "Python 3",
   "language": "python",
   "name": "python3"
  },
  "language_info": {
   "codemirror_mode": {
    "name": "ipython",
    "version": 3
   },
   "file_extension": ".py",
   "mimetype": "text/x-python",
   "name": "python",
   "nbconvert_exporter": "python",
   "pygments_lexer": "ipython3",
   "version": "3.7.4"
  }
 },
 "nbformat": 4,
 "nbformat_minor": 2
}
